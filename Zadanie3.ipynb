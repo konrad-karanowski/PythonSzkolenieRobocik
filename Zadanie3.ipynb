{
 "cells": [
  {
   "cell_type": "code",
   "execution_count": 1,
   "metadata": {},
   "outputs": [],
   "source": [
    "# obliczanie wektorów \n",
    "# przypadek I, dla jednego wektora\n",
    "# wektor definiujemy jako listę"
   ]
  },
  {
   "cell_type": "code",
   "execution_count": 5,
   "metadata": {},
   "outputs": [],
   "source": [
    "import math\n",
    "\n",
    "def oblicz_dlugosc_wektora(wektor):\n",
    "    \"\"\"\n",
    "    Wektor obliczamy korzystając z metryki minkowskiego dla p = 2 (tzw. L2), czyli długości euklidesowej\n",
    "    znanej ze szkoły:\n",
    "    \n",
    "    |v| = sqrt(x1 ^ 2 + x2 ^ 2 + ... + xn ^ 2)\n",
    "    \n",
    "    Wykorzystamy do tego bibliotekę math\n",
    "    Kroki do wykonania:\n",
    "    1. Policz sumę kwadratów wszystkich elementów\n",
    "    2. Zwróć pierwiastek kwadratowy z sumy\n",
    "    \"\"\"\n",
    "    suma = 0\n",
    "    for x in wektor:\n",
    "        suma += x ** 2\n",
    "    return math.sqrt(suma)"
   ]
  },
  {
   "cell_type": "code",
   "execution_count": 3,
   "metadata": {},
   "outputs": [
    {
     "name": "stdout",
     "output_type": "stream",
     "text": [
      "5.0\n"
     ]
    }
   ],
   "source": [
    "# test\n",
    "wektor = [3, 4]\n",
    "print(oblicz_dlugosc_wektora(vector))"
   ]
  },
  {
   "cell_type": "code",
   "execution_count": 4,
   "metadata": {},
   "outputs": [],
   "source": [
    "# przypadek II, dla listy wektorów\n",
    "# tworzymy liste list"
   ]
  },
  {
   "cell_type": "code",
   "execution_count": 6,
   "metadata": {},
   "outputs": [
    {
     "name": "stdout",
     "output_type": "stream",
     "text": [
      "5.0\n",
      "1.4142135623730951\n",
      "4.47213595499958\n"
     ]
    }
   ],
   "source": [
    "wektory = [[3, 4], [1, 1], [-2, 4]]\n",
    "for wektor in wektory:\n",
    "    print(oblicz_dlugosc_wektora(wektor))"
   ]
  }
 ],
 "metadata": {
  "kernelspec": {
   "display_name": "Python 3",
   "language": "python",
   "name": "python3"
  },
  "language_info": {
   "codemirror_mode": {
    "name": "ipython",
    "version": 3
   },
   "file_extension": ".py",
   "mimetype": "text/x-python",
   "name": "python",
   "nbconvert_exporter": "python",
   "pygments_lexer": "ipython3",
   "version": "3.8.2"
  }
 },
 "nbformat": 4,
 "nbformat_minor": 4
}
