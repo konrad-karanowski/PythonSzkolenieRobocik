{
 "cells": [
  {
   "cell_type": "code",
   "execution_count": 2,
   "metadata": {},
   "outputs": [],
   "source": [
    "glosy = ['Kubuś', 'Kubuś', 'Kubuś', 'Osioł', 'Osioł', 'Osioł', 'Kubuś', \n",
    "         'Osioł', 'Kubuś', 'Osioł', 'Osioł', 'Kubuś', 'Kubuś', 'Osioł', \n",
    "         'Osioł', 'Kubuś', 'Osioł', 'Osioł', 'Osioł', 'Kubuś', 'Kubuś', \n",
    "         'Kubuś', 'Osioł', 'Kubuś', '***** ***', 'Kubuś', 'Kubuś', 'Osioł',\n",
    "         'Osioł', 'Kubuś', 'Kubuś', 'Osioł', 'Osioł', 'Nic', 'Kubuś', 'Kubuś',\n",
    "         'Osioł', 'Osioł', 'Osioł', 'Osioł', 'Osioł', 'Osioł', 'Osioł', 'Kubuś',\n",
    "         'Osioł', 'Kubuś', 'Kubuś', 'Kubuś', 'Osioł', 'Osioł', 'Kubuś', 'Osioł', \n",
    "         'Kubuś', 'Osioł', 'Kubuś', 'Kubuś', 'Osioł', 'Kubuś', 'Kubuś', 'Kubuś', \n",
    "         'Kubuś', 'Kubuś', 'Osioł', 'Kubuś', 'Kubuś', 'Osioł', 'Całka poczwórna', \n",
    "         'Osioł', 'Sprzedam Opla', 'Kubuś', 'Kubuś', 'Osioł', 'Osioł', 'Kubuś', \n",
    "         'Kubuś', 'Osioł', 'Osioł', 'Osioł', 'Kusasass', 'Osioł', 'Osioł', 'Kubuś',\n",
    "         'Osioł', 'Kubuś', 'Osioł', 'Osioł', 'Kubuś', 'Osł', 'Osioł', 'Osioł', 'Kubuś',\n",
    "         'Osioł', 'Kubuś', 'Osioł', 'Kubuś', 'Kubuś', 'Kubuś', 'Osioł', 'Osioł', 'Kubuś',\n",
    "         'Kubuś', 'Osioł', 'Osioł', 'Osioł', 'Osioł', 'Osioł', 'Osioł', 'Kubuś', 'Osioł', 'Kubuś',\n",
    "         'Osioł', 'Osioł', 'Osioł', 'Osioł', 'Osioł', 'Osioł', 'Kubuś', 'Osioł', 'Kubuś', 'Osioł', \n",
    "         'Osioł', 'Osioł', 'Osioł', 'Osioł', 'Kubuś', 'Kubuś', 'Kubuś', 'Osioł', 'Kubuś', 'Osioł', \n",
    "         'Kubuś', 'Osioł', 'Kubuś', 'Osioł', 'Kubuś', 'Kubuś', 'Kubuś', 'Kubuś', 'Duda', 'Kubuś', \n",
    "         'Osioł', 'Osioł', 'Osioł', 'Osioł']"
   ]
  },
  {
   "cell_type": "code",
   "execution_count": 3,
   "metadata": {},
   "outputs": [
    {
     "name": "stdout",
     "output_type": "stream",
     "text": [
      "Osioł: 75\n",
      "Puchatek: 62\n",
      "Wygrał Osioł\n"
     ]
    }
   ],
   "source": [
    "glosy_na_osla = 0\n",
    "glosy_na_puchatka = 0\n",
    "for element in glosy:\n",
    "    if element == \"Kubuś\":\n",
    "        glosy_na_puchatka += 1\n",
    "    elif element == \"Osioł\":\n",
    "        glosy_na_osla += 1\n",
    "print(f'Osioł: {glosy_na_osla}')\n",
    "print(f'Puchatek: {glosy_na_puchatka}')\n",
    "if glosy_na_osla > glosy_na_puchatka:\n",
    "    print(\"Wygrał Osioł\")\n",
    "elif glosy_na_puchatka < glosy_na_osla:\n",
    "    print(\"Wygrał Puchatek\")\n",
    "else:\n",
    "    print(\"Remis\")"
   ]
  },
  {
   "cell_type": "code",
   "execution_count": null,
   "metadata": {},
   "outputs": [],
   "source": []
  }
 ],
 "metadata": {
  "kernelspec": {
   "display_name": "Python 3",
   "language": "python",
   "name": "python3"
  },
  "language_info": {
   "codemirror_mode": {
    "name": "ipython",
    "version": 3
   },
   "file_extension": ".py",
   "mimetype": "text/x-python",
   "name": "python",
   "nbconvert_exporter": "python",
   "pygments_lexer": "ipython3",
   "version": "3.8.2"
  }
 },
 "nbformat": 4,
 "nbformat_minor": 4
}
